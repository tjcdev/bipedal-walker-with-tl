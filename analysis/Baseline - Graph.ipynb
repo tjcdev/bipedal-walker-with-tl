{
 "cells": [
  {
   "cell_type": "code",
   "execution_count": 1,
   "metadata": {},
   "outputs": [],
   "source": [
    "import pandas as pd\n",
    "import seaborn as sns\n",
    "sns.set()"
   ]
  },
  {
   "cell_type": "code",
   "execution_count": 8,
   "metadata": {},
   "outputs": [],
   "source": [
    "data_df = pd.read_json('base-lun.json')"
   ]
  },
  {
   "cell_type": "code",
   "execution_count": 9,
   "metadata": {},
   "outputs": [
    {
     "data": {
      "text/html": [
       "<div>\n",
       "<style scoped>\n",
       "    .dataframe tbody tr th:only-of-type {\n",
       "        vertical-align: middle;\n",
       "    }\n",
       "\n",
       "    .dataframe tbody tr th {\n",
       "        vertical-align: top;\n",
       "    }\n",
       "\n",
       "    .dataframe thead th {\n",
       "        text-align: right;\n",
       "    }\n",
       "</style>\n",
       "<table border=\"1\" class=\"dataframe\">\n",
       "  <thead>\n",
       "    <tr style=\"text-align: right;\">\n",
       "      <th></th>\n",
       "      <th>approxkl</th>\n",
       "      <th>clipfrac</th>\n",
       "      <th>eplenmean</th>\n",
       "      <th>eprewmean</th>\n",
       "      <th>explained_variance</th>\n",
       "      <th>fps</th>\n",
       "      <th>nupdates</th>\n",
       "      <th>policy_entropy</th>\n",
       "      <th>policy_loss</th>\n",
       "      <th>serial_timesteps</th>\n",
       "      <th>time_elapsed</th>\n",
       "      <th>total_timesteps</th>\n",
       "      <th>value_loss</th>\n",
       "    </tr>\n",
       "  </thead>\n",
       "  <tbody>\n",
       "    <tr>\n",
       "      <th>0</th>\n",
       "      <td>0.003996</td>\n",
       "      <td>0.035937</td>\n",
       "      <td>109.222222</td>\n",
       "      <td>-253.591754</td>\n",
       "      <td>-0.000054</td>\n",
       "      <td>154</td>\n",
       "      <td>1</td>\n",
       "      <td>2.831399</td>\n",
       "      <td>-0.004421</td>\n",
       "      <td>2048</td>\n",
       "      <td>13.281312</td>\n",
       "      <td>2048</td>\n",
       "      <td>1101.682495</td>\n",
       "    </tr>\n",
       "    <tr>\n",
       "      <th>1</th>\n",
       "      <td>0.001880</td>\n",
       "      <td>0.014697</td>\n",
       "      <td>113.485714</td>\n",
       "      <td>-232.153339</td>\n",
       "      <td>0.000209</td>\n",
       "      <td>167</td>\n",
       "      <td>2</td>\n",
       "      <td>2.823657</td>\n",
       "      <td>-0.002111</td>\n",
       "      <td>4096</td>\n",
       "      <td>26.489229</td>\n",
       "      <td>4096</td>\n",
       "      <td>893.245300</td>\n",
       "    </tr>\n",
       "    <tr>\n",
       "      <th>2</th>\n",
       "      <td>0.002997</td>\n",
       "      <td>0.030273</td>\n",
       "      <td>113.333333</td>\n",
       "      <td>-215.909726</td>\n",
       "      <td>0.001540</td>\n",
       "      <td>168</td>\n",
       "      <td>3</td>\n",
       "      <td>2.823576</td>\n",
       "      <td>-0.004066</td>\n",
       "      <td>6144</td>\n",
       "      <td>39.460706</td>\n",
       "      <td>6144</td>\n",
       "      <td>871.129761</td>\n",
       "    </tr>\n",
       "    <tr>\n",
       "      <th>3</th>\n",
       "      <td>0.000309</td>\n",
       "      <td>0.000244</td>\n",
       "      <td>112.347222</td>\n",
       "      <td>-203.883699</td>\n",
       "      <td>0.000645</td>\n",
       "      <td>167</td>\n",
       "      <td>4</td>\n",
       "      <td>2.819408</td>\n",
       "      <td>-0.000912</td>\n",
       "      <td>8192</td>\n",
       "      <td>52.586684</td>\n",
       "      <td>8192</td>\n",
       "      <td>786.759033</td>\n",
       "    </tr>\n",
       "    <tr>\n",
       "      <th>4</th>\n",
       "      <td>0.003357</td>\n",
       "      <td>0.039111</td>\n",
       "      <td>113.887640</td>\n",
       "      <td>-207.177734</td>\n",
       "      <td>-0.011743</td>\n",
       "      <td>161</td>\n",
       "      <td>5</td>\n",
       "      <td>2.841543</td>\n",
       "      <td>-0.003483</td>\n",
       "      <td>10240</td>\n",
       "      <td>66.182997</td>\n",
       "      <td>10240</td>\n",
       "      <td>780.769714</td>\n",
       "    </tr>\n",
       "  </tbody>\n",
       "</table>\n",
       "</div>"
      ],
      "text/plain": [
       "   approxkl  clipfrac   eplenmean   eprewmean  explained_variance  fps  \\\n",
       "0  0.003996  0.035937  109.222222 -253.591754           -0.000054  154   \n",
       "1  0.001880  0.014697  113.485714 -232.153339            0.000209  167   \n",
       "2  0.002997  0.030273  113.333333 -215.909726            0.001540  168   \n",
       "3  0.000309  0.000244  112.347222 -203.883699            0.000645  167   \n",
       "4  0.003357  0.039111  113.887640 -207.177734           -0.011743  161   \n",
       "\n",
       "   nupdates  policy_entropy  policy_loss  serial_timesteps  time_elapsed  \\\n",
       "0         1        2.831399    -0.004421              2048     13.281312   \n",
       "1         2        2.823657    -0.002111              4096     26.489229   \n",
       "2         3        2.823576    -0.004066              6144     39.460706   \n",
       "3         4        2.819408    -0.000912              8192     52.586684   \n",
       "4         5        2.841543    -0.003483             10240     66.182997   \n",
       "\n",
       "   total_timesteps   value_loss  \n",
       "0             2048  1101.682495  \n",
       "1             4096   893.245300  \n",
       "2             6144   871.129761  \n",
       "3             8192   786.759033  \n",
       "4            10240   780.769714  "
      ]
     },
     "execution_count": 9,
     "metadata": {},
     "output_type": "execute_result"
    }
   ],
   "source": [
    "data_df.head()"
   ]
  },
  {
   "cell_type": "code",
   "execution_count": 10,
   "metadata": {},
   "outputs": [
    {
     "data": {
      "text/plain": [
       "<matplotlib.axes._subplots.AxesSubplot at 0x1a1f1d4c88>"
      ]
     },
     "execution_count": 10,
     "metadata": {},
     "output_type": "execute_result"
    },
    {
     "data": {
      "image/png": "[encoded data removed]",
      "text/plain": [
       "<Figure size 432x288 with 1 Axes>"
      ]
     },
     "metadata": {
      "needs_background": "light"
     },
     "output_type": "display_data"
    }
   ],
   "source": [
    "sns.pointplot(x=\"nupdates\", y=\"eprewmean\", data=data_df)"
   ]
  },
  {
   "cell_type": "code",
   "execution_count": null,
   "metadata": {},
   "outputs": [],
   "source": []
  }
 ],
 "metadata": {
  "kernelspec": {
   "display_name": "Python 3",
   "language": "python",
   "name": "python3"
  },
  "language_info": {
   "codemirror_mode": {
    "name": "ipython",
    "version": 3
   },
   "file_extension": ".py",
   "mimetype": "text/x-python",
   "name": "python",
   "nbconvert_exporter": "python",
   "pygments_lexer": "ipython3",
   "version": "3.6.8"
  }
 },
 "nbformat": 4,
 "nbformat_minor": 2
}
